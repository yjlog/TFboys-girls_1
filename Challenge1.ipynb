{
 "cells": [
  {
   "cell_type": "markdown",
   "source": [
    "## 1. Read dataset, train, validate, test"
   ],
   "metadata": {
    "collapsed": false
   },
   "id": "1579f6c94550679e"
  },
  {
   "cell_type": "code",
   "execution_count": 2,
   "id": "initial_id",
   "metadata": {
    "collapsed": true,
    "ExecuteTime": {
     "end_time": "2025-09-20T21:53:05.026090300Z",
     "start_time": "2025-09-20T21:52:59.377260200Z"
    }
   },
   "outputs": [],
   "source": [
    "import pandas as pd\n",
    "train = pd.read_csv('data/si670_kaggle1_train.csv')\n",
    "valid = pd.read_csv('data/si670_kaggle1_validation.csv')\n",
    "test = pd.read_csv('data/test.csv')"
   ]
  },
  {
   "cell_type": "code",
   "execution_count": 3,
   "outputs": [
    {
     "data": {
      "text/plain": "(60743, 2)"
     },
     "execution_count": 3,
     "metadata": {},
     "output_type": "execute_result"
    }
   ],
   "source": [
    "test.shape"
   ],
   "metadata": {
    "collapsed": false,
    "ExecuteTime": {
     "end_time": "2025-09-20T21:53:05.046315400Z",
     "start_time": "2025-09-20T21:53:05.031424600Z"
    }
   },
   "id": "64b96c30713453e5"
  },
  {
   "cell_type": "code",
   "execution_count": 4,
   "outputs": [
    {
     "data": {
      "text/plain": "(319071, 3)"
     },
     "execution_count": 4,
     "metadata": {},
     "output_type": "execute_result"
    }
   ],
   "source": [
    "train.shape"
   ],
   "metadata": {
    "collapsed": false,
    "ExecuteTime": {
     "end_time": "2025-09-20T21:53:05.103208800Z",
     "start_time": "2025-09-20T21:53:05.046315400Z"
    }
   },
   "id": "ad2822a0d11c443e"
  },
  {
   "cell_type": "code",
   "execution_count": 5,
   "outputs": [
    {
     "data": {
      "text/plain": "0.2924678206418007"
     },
     "execution_count": 5,
     "metadata": {},
     "output_type": "execute_result"
    }
   ],
   "source": [
    "ratio_train = train['label'].mean()\n",
    "ratio_train"
   ],
   "metadata": {
    "collapsed": false,
    "ExecuteTime": {
     "end_time": "2025-09-20T21:53:06.800657500Z",
     "start_time": "2025-09-20T21:53:06.771236200Z"
    }
   },
   "id": "cae8a76dbcc54deb"
  },
  {
   "cell_type": "code",
   "execution_count": 6,
   "outputs": [
    {
     "data": {
      "text/plain": "0.5070960698689956"
     },
     "execution_count": 6,
     "metadata": {},
     "output_type": "execute_result"
    }
   ],
   "source": [
    "ratio_valid = valid['label'].mean()\n",
    "ratio_valid"
   ],
   "metadata": {
    "collapsed": false,
    "ExecuteTime": {
     "end_time": "2025-09-20T21:53:08.651698500Z",
     "start_time": "2025-09-20T21:53:08.636336400Z"
    }
   },
   "id": "f56ddff11f16dc87"
  },
  {
   "cell_type": "markdown",
   "source": [
    "Check for nulls"
   ],
   "metadata": {
    "collapsed": false
   },
   "id": "e90dc79b6d586935"
  },
  {
   "cell_type": "code",
   "execution_count": 7,
   "outputs": [
    {
     "data": {
      "text/plain": "text     0\nlabel    0\nid       0\ndtype: int64"
     },
     "execution_count": 7,
     "metadata": {},
     "output_type": "execute_result"
    }
   ],
   "source": [
    "train.isnull().sum()"
   ],
   "metadata": {
    "collapsed": false,
    "ExecuteTime": {
     "end_time": "2025-09-20T21:53:11.311088400Z",
     "start_time": "2025-09-20T21:53:11.246008500Z"
    }
   },
   "id": "dc2d1ba8bf823f31"
  },
  {
   "cell_type": "markdown",
   "source": [
    "seems like there are no nulls"
   ],
   "metadata": {
    "collapsed": false
   },
   "id": "b0536dc271d168b8"
  },
  {
   "cell_type": "markdown",
   "source": [
    "## 2. Data processing/ text processing"
   ],
   "metadata": {
    "collapsed": false
   },
   "id": "b2e6068ef1b8d7c"
  },
  {
   "cell_type": "code",
   "execution_count": 82,
   "outputs": [
    {
     "data": {
      "text/plain": "(319071, 439151)"
     },
     "execution_count": 82,
     "metadata": {},
     "output_type": "execute_result"
    }
   ],
   "source": [
    "from sklearn.feature_extraction.text import TfidfVectorizer\n",
    "\n",
    "vectorizer = TfidfVectorizer(ngram_range=(1,2), min_df= 0.00005)\n",
    "tfidf_train = vectorizer.fit_transform(train['text'])\n",
    "y_train = train['label']\n",
    "tfidf_valid = vectorizer.transform(valid['text'])\n",
    "y_valid = valid['label']\n",
    "tfidf_test = vectorizer.transform(test['text'])\n",
    "\n",
    "tfidf_train.shape"
   ],
   "metadata": {
    "collapsed": false,
    "ExecuteTime": {
     "end_time": "2025-09-20T23:34:06.363231Z",
     "start_time": "2025-09-20T23:31:28.543699600Z"
    }
   },
   "id": "e03f1edf183ffd8a"
  },
  {
   "cell_type": "markdown",
   "source": [
    "try separate 1-gram and 2-gram"
   ],
   "metadata": {
    "collapsed": false
   },
   "id": "64698fa58b6d01e3"
  },
  {
   "cell_type": "code",
   "execution_count": 57,
   "outputs": [],
   "source": [
    "vectorizer_uni = TfidfVectorizer(\n",
    "    ngram_range=(1,1),\n",
    "    min_df=0.00005,\n",
    "    max_df=0.8,\n",
    "    stop_words='english'\n",
    ")\n",
    "\n",
    "tfidf_train_uni = vectorizer_uni.fit_transform(train['text'])\n",
    "tfidf_valid_uni = vectorizer_uni.transform(valid['text'])\n",
    "tfidf_test_uni = vectorizer_uni.transform(test['text'])"
   ],
   "metadata": {
    "collapsed": false,
    "ExecuteTime": {
     "end_time": "2025-09-20T22:16:11.292242500Z",
     "start_time": "2025-09-20T22:15:26.311725500Z"
    }
   },
   "id": "df6bd69f0d6635d0"
  },
  {
   "cell_type": "code",
   "execution_count": 36,
   "outputs": [],
   "source": [
    "vectorizer_bi = TfidfVectorizer(\n",
    "    ngram_range=(2,2),\n",
    "    min_df=0.00002,\n",
    "    max_df=0.8,\n",
    "    stop_words='english'\n",
    ")\n",
    "\n",
    "tfidf_train_bi = vectorizer_bi.fit_transform(train['text'])\n",
    "tfidf_valid_bi = vectorizer_bi.transform(valid['text'])\n",
    "tfidf_test_bi = vectorizer_bi.transform(test['text'])"
   ],
   "metadata": {
    "collapsed": false,
    "ExecuteTime": {
     "end_time": "2025-09-20T22:10:21.740824400Z",
     "start_time": "2025-09-20T22:08:59.755599400Z"
    }
   },
   "id": "48e10e06e96527aa"
  },
  {
   "cell_type": "code",
   "execution_count": 20,
   "outputs": [],
   "source": [
    "# vectorizer_tri = TfidfVectorizer(\n",
    "#     ngram_range=(3,3),\n",
    "#     min_df=0.00005,\n",
    "#     max_df=0.8,\n",
    "#     stop_words='english'\n",
    "# )\n",
    "# \n",
    "# tfidf_train_tri = vectorizer_bi.fit_transform(train['text'])\n",
    "# tfidf_valid_tri = vectorizer_bi.transform(valid['text'])\n",
    "# tfidf_test_tri = vectorizer_bi.transform(test['text'])"
   ],
   "metadata": {
    "collapsed": false,
    "ExecuteTime": {
     "end_time": "2025-09-20T22:03:27.214529100Z",
     "start_time": "2025-09-20T22:02:12.800070100Z"
    }
   },
   "id": "b158144f468939e1"
  },
  {
   "cell_type": "code",
   "execution_count": 58,
   "outputs": [
    {
     "data": {
      "text/plain": "(319071, 617596)"
     },
     "execution_count": 58,
     "metadata": {},
     "output_type": "execute_result"
    }
   ],
   "source": [
    "from scipy.sparse import hstack\n",
    "tfidf_train_all = hstack([tfidf_train_uni, tfidf_train_bi])\n",
    "tfidf_valid_all = hstack([tfidf_valid_uni, tfidf_valid_bi])\n",
    "tfidf_test_all = hstack([tfidf_test_uni, tfidf_test_bi])\n",
    "tfidf_train_all.shape"
   ],
   "metadata": {
    "collapsed": false,
    "ExecuteTime": {
     "end_time": "2025-09-20T22:16:11.872975800Z",
     "start_time": "2025-09-20T22:16:11.296306600Z"
    }
   },
   "id": "9502662fcceab67c"
  },
  {
   "cell_type": "markdown",
   "source": [
    "train on all"
   ],
   "metadata": {
    "collapsed": false
   },
   "id": "9058805686c10e4b"
  },
  {
   "cell_type": "code",
   "execution_count": 85,
   "outputs": [],
   "source": [
    "df_all = pd.concat([train, valid], axis=0, ignore_index=True)\n",
    "X_all_text = df_all['text']\n",
    "y_all = df_all['label']\n",
    "# tfidf_all_1 = vectorizer_bi.fit_transform(X_all_text)\n",
    "# tfidf_all_2 = vectorizer_uni.fit_transform(X_all_text)\n",
    "# tfidf_test_1 = vectorizer_bi.transform(test['text'])\n",
    "# tfidf_test_2 = vectorizer_uni.transform(test['text'])\n",
    "# tfidf_all = hstack([tfidf_all_1, tfidf_all_2])\n",
    "# tfidf_test_alll = hstack([tfidf_test_1, tfidf_test_2])\n",
    "vectorizer_all = TfidfVectorizer(ngram_range=(1,2), min_df= 0.00005)\n",
    "tfidf_all = vectorizer_all.fit_transform(X_all_text)"
   ],
   "metadata": {
    "collapsed": false,
    "ExecuteTime": {
     "end_time": "2025-09-20T23:40:06.239499100Z",
     "start_time": "2025-09-20T23:37:21.408469800Z"
    }
   },
   "id": "61c56d5178f6fcb9"
  },
  {
   "cell_type": "markdown",
   "source": [],
   "metadata": {
    "collapsed": false
   },
   "id": "64ab838ae44d7d8e"
  },
  {
   "cell_type": "code",
   "execution_count": 86,
   "outputs": [],
   "source": [
    "tfidf_valid = vectorizer_all.transform(valid['text'])\n",
    "y_valid = valid['label']\n",
    "tfidf_test = vectorizer_all.transform(test['text'])"
   ],
   "metadata": {
    "collapsed": false,
    "ExecuteTime": {
     "end_time": "2025-09-20T23:40:39.203912300Z",
     "start_time": "2025-09-20T23:40:06.280459200Z"
    }
   },
   "id": "870070556628a9f1"
  },
  {
   "cell_type": "code",
   "execution_count": 78,
   "outputs": [
    {
     "data": {
      "text/plain": "(375863, 632690)"
     },
     "execution_count": 78,
     "metadata": {},
     "output_type": "execute_result"
    }
   ],
   "source": [
    "tfidf_all.shape"
   ],
   "metadata": {
    "collapsed": false,
    "ExecuteTime": {
     "end_time": "2025-09-20T23:14:31.422874Z",
     "start_time": "2025-09-20T23:14:31.366949500Z"
    }
   },
   "id": "79b62dc72d30004c"
  },
  {
   "cell_type": "markdown",
   "source": [
    "How to deal with high dimensionality?"
   ],
   "metadata": {
    "collapsed": false
   },
   "id": "6e0b81d4ed223af8"
  },
  {
   "cell_type": "code",
   "execution_count": 15,
   "outputs": [],
   "source": [
    "# vectorizer = TfidfVectorizer(ngram_range=(1,2), min_df=5, max_df=0.8, stop_words='english')\n",
    "# tfidf_train = vectorizer.fit_transform(train['text'])\n",
    "# tfidf_train.shape"
   ],
   "metadata": {
    "collapsed": false,
    "ExecuteTime": {
     "end_time": "2025-09-20T21:27:58.471651100Z",
     "start_time": "2025-09-20T21:27:58.456318900Z"
    }
   },
   "id": "77bdd8f6d7295232"
  },
  {
   "cell_type": "code",
   "execution_count": 16,
   "outputs": [],
   "source": [
    "# from sklearn.decomposition import TruncatedSVD\n",
    "# \n",
    "# svd = TruncatedSVD(n_components=1000, random_state=670)\n",
    "# tfidf_train_svd = svd.fit_transform(tfidf_train)\n",
    "# tfidf_valid_svd = svd.transform(tfidf_valid)"
   ],
   "metadata": {
    "collapsed": false,
    "ExecuteTime": {
     "end_time": "2025-09-20T21:27:58.503062Z",
     "start_time": "2025-09-20T21:27:58.471651100Z"
    }
   },
   "id": "9ef9d48be14dc4f"
  },
  {
   "cell_type": "code",
   "execution_count": 17,
   "outputs": [],
   "source": [
    "# tfidf_train_svd.shape"
   ],
   "metadata": {
    "collapsed": false,
    "ExecuteTime": {
     "end_time": "2025-09-20T21:27:58.508308Z",
     "start_time": "2025-09-20T21:27:58.486972300Z"
    }
   },
   "id": "cc9f6789d1da5aa3"
  },
  {
   "cell_type": "markdown",
   "source": [
    "## 3. Train on Logistic Regression"
   ],
   "metadata": {
    "collapsed": false
   },
   "id": "876e3b6a97cf18f8"
  },
  {
   "cell_type": "code",
   "execution_count": 87,
   "outputs": [
    {
     "name": "stdout",
     "output_type": "stream",
     "text": [
      "F1分数: 0.9943469412603712\n"
     ]
    }
   ],
   "source": [
    "from sklearn.linear_model import LogisticRegression\n",
    "from sklearn.metrics import f1_score\n",
    "from imblearn.over_sampling import RandomOverSampler\n",
    "\n",
    "# ros = RandomOverSampler(random_state=670)\n",
    "# X_resampled_train, y_resampled = ros.fit_resample(tfidf_train_all, y_train)\n",
    "\n",
    "\n",
    "model = LogisticRegression(penalty='l2',class_weight='balanced', max_iter=100, C=20, random_state=670, solver='liblinear')\n",
    "\n",
    "#model.fit(tfidf_train, y_train)\n",
    "model.fit(tfidf_all, y_all)\n",
    "y_valid_pred_probas = model.predict_proba(tfidf_valid)\n",
    "\n",
    "#model.fit(tfidf_train_all, y_train)\n",
    "\n",
    "# model.fit(X_resampled_train, y_resampled)\n",
    "#y_valid_pred_probas = model.predict_proba(tfidf_valid_all)\n",
    "\n",
    "# probas[:, 1] 是预测为1的概率\n",
    "y_pred = (y_valid_pred_probas[:, 1] >= 0.5).astype(int)\n",
    "print('F1分数:', f1_score(y_valid, y_pred))"
   ],
   "metadata": {
    "collapsed": false,
    "ExecuteTime": {
     "end_time": "2025-09-20T23:42:00.878491300Z",
     "start_time": "2025-09-20T23:40:39.209026200Z"
    }
   },
   "id": "1a5c53e9538f1d89"
  },
  {
   "cell_type": "code",
   "execution_count": 88,
   "outputs": [
    {
     "name": "stdout",
     "output_type": "stream",
     "text": [
      "F1分数: 0.9888128522917277\n"
     ]
    }
   ],
   "source": [
    "y_pred = (y_valid_pred_probas[:, 1] >= 0.34).astype(int)\n",
    "print('F1分数:', f1_score(y_valid, y_pred))"
   ],
   "metadata": {
    "collapsed": false,
    "ExecuteTime": {
     "end_time": "2025-09-20T23:42:22.108242300Z",
     "start_time": "2025-09-20T23:42:22.072835200Z"
    }
   },
   "id": "49e4fa2c7ed91a12"
  },
  {
   "cell_type": "code",
   "execution_count": 20,
   "outputs": [],
   "source": [
    "# from sklearn.model_selection import GridSearchCV\n",
    "# from sklearn.linear_model import LogisticRegression\n",
    "# from sklearn.metrics import f1_score\n",
    "# \n",
    "# param_grid = {'C': [0.01, 0.1, 1, 10, 100]}\n",
    "# lr = LogisticRegression(penalty='elasticnet', solver='saga', l1_ratio=0.8, max_iter=1000)\n",
    "# \n",
    "# y_valid = valid['label']\n",
    "# y_train = train['label']\n",
    "# \n",
    "# # GridSearchCV\n",
    "# grid = GridSearchCV(lr, param_grid, cv=5, scoring='f1')\n",
    "# grid.fit(tfidf_train, y_train)\n",
    "# \n",
    "# print(\"best para：\", grid.best_params_)\n",
    "# \n",
    "# # validate\n",
    "# best_model = grid.best_estimator_\n",
    "# y_val_pred = best_model.predict(tfidf_valid)\n",
    "# \n",
    "# print(\"验证集F1分数：\", f1_score(tfidf_valid, y_val_pred))"
   ],
   "metadata": {
    "collapsed": false,
    "ExecuteTime": {
     "end_time": "2025-09-20T21:28:35.617496900Z",
     "start_time": "2025-09-20T21:28:35.593604300Z"
    }
   },
   "id": "d588703d8bf3f180"
  },
  {
   "cell_type": "code",
   "execution_count": 89,
   "outputs": [],
   "source": [
    "test_pred_probas = model.predict_proba(tfidf_test)\n",
    "# probas[:, 1] 是预测为1的概率\n",
    "test_pred = (test_pred_probas[:, 1] >= 0.34).astype(int)\n",
    "\n",
    "# 4. 生成并导出结果\n",
    "out_df = pd.DataFrame({'id': test['id'], 'label': test_pred})\n",
    "out_df.to_csv('test_pred.csv', index=False)"
   ],
   "metadata": {
    "collapsed": false,
    "ExecuteTime": {
     "end_time": "2025-09-20T23:42:28.829249Z",
     "start_time": "2025-09-20T23:42:28.631561900Z"
    }
   },
   "id": "5d3e59b7f0c912f5"
  }
 ],
 "metadata": {
  "kernelspec": {
   "display_name": "Python 3",
   "language": "python",
   "name": "python3"
  },
  "language_info": {
   "codemirror_mode": {
    "name": "ipython",
    "version": 2
   },
   "file_extension": ".py",
   "mimetype": "text/x-python",
   "name": "python",
   "nbconvert_exporter": "python",
   "pygments_lexer": "ipython2",
   "version": "2.7.6"
  }
 },
 "nbformat": 4,
 "nbformat_minor": 5
}
