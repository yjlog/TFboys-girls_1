{
 "cells": [
  {
   "cell_type": "markdown",
   "source": [
    "## 1. Read dataset, train, validate, test"
   ],
   "metadata": {
    "collapsed": false
   },
   "id": "1579f6c94550679e"
  },
  {
   "cell_type": "code",
   "execution_count": 1,
   "id": "initial_id",
   "metadata": {
    "collapsed": true,
    "ExecuteTime": {
     "end_time": "2025-09-19T05:03:37.711104700Z",
     "start_time": "2025-09-19T05:03:33.509410600Z"
    }
   },
   "outputs": [],
   "source": [
    "import pandas as pd\n",
    "train = pd.read_csv('data/si670_kaggle1_train.csv')\n",
    "valid = pd.read_csv('data/si670_kaggle1_validation.csv')\n",
    "test = pd.read_csv('data/test.csv')"
   ]
  },
  {
   "cell_type": "code",
   "execution_count": 16,
   "outputs": [
    {
     "data": {
      "text/plain": "(60743, 2)"
     },
     "execution_count": 16,
     "metadata": {},
     "output_type": "execute_result"
    }
   ],
   "source": [
    "test.shape"
   ],
   "metadata": {
    "collapsed": false,
    "ExecuteTime": {
     "end_time": "2025-09-19T05:27:17.221092900Z",
     "start_time": "2025-09-19T05:27:17.170260800Z"
    }
   },
   "id": "64b96c30713453e5"
  },
  {
   "cell_type": "code",
   "execution_count": 71,
   "outputs": [
    {
     "data": {
      "text/plain": "(319071, 3)"
     },
     "execution_count": 71,
     "metadata": {},
     "output_type": "execute_result"
    }
   ],
   "source": [
    "train.shape"
   ],
   "metadata": {
    "collapsed": false,
    "ExecuteTime": {
     "end_time": "2025-09-19T06:06:48.136128200Z",
     "start_time": "2025-09-19T06:06:48.124125700Z"
    }
   },
   "id": "ad2822a0d11c443e"
  },
  {
   "cell_type": "code",
   "execution_count": 73,
   "outputs": [
    {
     "data": {
      "text/plain": "0.2924678206418007"
     },
     "execution_count": 73,
     "metadata": {},
     "output_type": "execute_result"
    }
   ],
   "source": [
    "ratio_train = train['label'].mean()\n",
    "ratio_train"
   ],
   "metadata": {
    "collapsed": false,
    "ExecuteTime": {
     "end_time": "2025-09-19T06:07:00.310932900Z",
     "start_time": "2025-09-19T06:07:00.294270100Z"
    }
   },
   "id": "cae8a76dbcc54deb"
  },
  {
   "cell_type": "code",
   "execution_count": 74,
   "outputs": [
    {
     "data": {
      "text/plain": "0.5070960698689956"
     },
     "execution_count": 74,
     "metadata": {},
     "output_type": "execute_result"
    }
   ],
   "source": [
    "ratio_valid = valid['label'].mean()\n",
    "ratio_valid"
   ],
   "metadata": {
    "collapsed": false,
    "ExecuteTime": {
     "end_time": "2025-09-19T06:07:32.747858700Z",
     "start_time": "2025-09-19T06:07:32.727305200Z"
    }
   },
   "id": "f56ddff11f16dc87"
  },
  {
   "cell_type": "markdown",
   "source": [
    "Check for nulls"
   ],
   "metadata": {
    "collapsed": false
   },
   "id": "e90dc79b6d586935"
  },
  {
   "cell_type": "code",
   "execution_count": 3,
   "outputs": [
    {
     "data": {
      "text/plain": "text     0\nlabel    0\nid       0\ndtype: int64"
     },
     "execution_count": 3,
     "metadata": {},
     "output_type": "execute_result"
    }
   ],
   "source": [
    "train.isnull().sum()"
   ],
   "metadata": {
    "collapsed": false,
    "ExecuteTime": {
     "end_time": "2025-09-19T05:03:37.773285100Z",
     "start_time": "2025-09-19T05:03:37.721377300Z"
    }
   },
   "id": "dc2d1ba8bf823f31"
  },
  {
   "cell_type": "markdown",
   "source": [
    "seems like there are no nulls"
   ],
   "metadata": {
    "collapsed": false
   },
   "id": "b0536dc271d168b8"
  },
  {
   "cell_type": "markdown",
   "source": [
    "## 2. Data processing/ text processing"
   ],
   "metadata": {
    "collapsed": false
   },
   "id": "b2e6068ef1b8d7c"
  },
  {
   "cell_type": "code",
   "execution_count": 69,
   "outputs": [
    {
     "data": {
      "text/plain": "(319071, 941086)"
     },
     "execution_count": 69,
     "metadata": {},
     "output_type": "execute_result"
    }
   ],
   "source": [
    "from sklearn.feature_extraction.text import TfidfVectorizer\n",
    "\n",
    "vectorizer = TfidfVectorizer(ngram_range=(1,2), min_df= 5, max_df=0.8, stop_words='english')\n",
    "tfidf_train = vectorizer.fit_transform(train['text'])\n",
    "y_train = train['label']\n",
    "tfidf_valid = vectorizer.transform(valid['text'])\n",
    "y_valid = valid['label']\n",
    "tfidf_test = vectorizer.transform(test['text'])\n",
    "\n",
    "tfidf_train.shape"
   ],
   "metadata": {
    "collapsed": false,
    "ExecuteTime": {
     "end_time": "2025-09-19T06:04:39.705893700Z",
     "start_time": "2025-09-19T06:03:13.204323600Z"
    }
   },
   "id": "e03f1edf183ffd8a"
  },
  {
   "cell_type": "markdown",
   "source": [
    "How to deal with high dimensionality?"
   ],
   "metadata": {
    "collapsed": false
   },
   "id": "6e0b81d4ed223af8"
  },
  {
   "cell_type": "code",
   "execution_count": 5,
   "outputs": [],
   "source": [
    "# vectorizer = TfidfVectorizer(ngram_range=(1,2), min_df=5, max_df=0.8, stop_words='english')\n",
    "# tfidf_train = vectorizer.fit_transform(train['text'])\n",
    "# tfidf_train.shape"
   ],
   "metadata": {
    "collapsed": false,
    "ExecuteTime": {
     "end_time": "2025-09-19T05:04:51.861126600Z",
     "start_time": "2025-09-19T05:04:51.852901500Z"
    }
   },
   "id": "77bdd8f6d7295232"
  },
  {
   "cell_type": "code",
   "execution_count": 15,
   "outputs": [],
   "source": [
    "from sklearn.decomposition import TruncatedSVD\n",
    "\n",
    "svd = TruncatedSVD(n_components=1000, random_state=670)\n",
    "tfidf_train_svd = svd.fit_transform(tfidf_train)\n",
    "tfidf_valid_svd = svd.transform(tfidf_valid)"
   ],
   "metadata": {
    "collapsed": false,
    "ExecuteTime": {
     "end_time": "2025-09-19T05:27:17.163451200Z",
     "start_time": "2025-09-19T05:21:53.021552100Z"
    }
   },
   "id": "9ef9d48be14dc4f"
  },
  {
   "cell_type": "code",
   "execution_count": 54,
   "outputs": [
    {
     "data": {
      "text/plain": "(319071, 1000)"
     },
     "execution_count": 54,
     "metadata": {},
     "output_type": "execute_result"
    }
   ],
   "source": [
    "tfidf_train_svd.shape"
   ],
   "metadata": {
    "collapsed": false,
    "ExecuteTime": {
     "end_time": "2025-09-19T05:44:20.767623300Z",
     "start_time": "2025-09-19T05:44:20.704501600Z"
    }
   },
   "id": "cc9f6789d1da5aa3"
  },
  {
   "cell_type": "markdown",
   "source": [
    "## 3. Train on Logistic Regression"
   ],
   "metadata": {
    "collapsed": false
   },
   "id": "876e3b6a97cf18f8"
  },
  {
   "cell_type": "code",
   "execution_count": 102,
   "outputs": [
    {
     "name": "stdout",
     "output_type": "stream",
     "text": [
      "F1分数: 0.7327827253479012\n"
     ]
    },
    {
     "name": "stderr",
     "output_type": "stream",
     "text": [
      "C:\\Users\\oscar meng\\AppData\\Local\\Programs\\Python\\Python39\\lib\\site-packages\\sklearn\\linear_model\\_sag.py:349: ConvergenceWarning: The max_iter was reached which means the coef_ did not converge\n",
      "  warnings.warn(\n"
     ]
    }
   ],
   "source": [
    "from sklearn.linear_model import LogisticRegression\n",
    "from sklearn.metrics import f1_score\n",
    "\n",
    "model = LogisticRegression(penalty='l1',class_weight='balanced', max_iter= 100, C= 10, solver='saga', random_state=670)\n",
    "model.fit(tfidf_train, y_train)\n",
    "y_valid_pred_probas = model.predict_proba(tfidf_valid)\n",
    "# probas[:, 1] 是预测为1的概率\n",
    "y_pred = (y_valid_pred_probas[:, 1] >= 0.5).astype(int)\n",
    "print('F1分数:', f1_score(y_valid, y_pred))"
   ],
   "metadata": {
    "collapsed": false,
    "ExecuteTime": {
     "end_time": "2025-09-19T09:01:49.378133400Z",
     "start_time": "2025-09-19T06:23:43.037777200Z"
    }
   },
   "id": "1a5c53e9538f1d89"
  },
  {
   "cell_type": "code",
   "execution_count": 116,
   "outputs": [
    {
     "name": "stdout",
     "output_type": "stream",
     "text": [
      "F1分数: 0.7474085256272015\n"
     ]
    }
   ],
   "source": [
    "y_pred = (y_valid_pred_probas[:, 1] >= 0.2).astype(int)\n",
    "print('F1分数:', f1_score(y_valid, y_pred))"
   ],
   "metadata": {
    "collapsed": false,
    "ExecuteTime": {
     "end_time": "2025-09-19T12:42:28.663350700Z",
     "start_time": "2025-09-19T12:42:28.647381800Z"
    }
   },
   "id": "49e4fa2c7ed91a12"
  },
  {
   "cell_type": "code",
   "execution_count": null,
   "outputs": [],
   "source": [
    "# from sklearn.model_selection import GridSearchCV\n",
    "# from sklearn.linear_model import LogisticRegression\n",
    "# from sklearn.metrics import f1_score\n",
    "# \n",
    "# param_grid = {'C': [0.01, 0.1, 1, 10, 100]}\n",
    "# lr = LogisticRegression(penalty='elasticnet', solver='saga', l1_ratio=0.8, max_iter=1000)\n",
    "# \n",
    "# y_valid = valid['label']\n",
    "# y_train = train['label']\n",
    "# \n",
    "# # GridSearchCV\n",
    "# grid = GridSearchCV(lr, param_grid, cv=5, scoring='f1')\n",
    "# grid.fit(tfidf_train, y_train)\n",
    "# \n",
    "# print(\"best para：\", grid.best_params_)\n",
    "# \n",
    "# # validate\n",
    "# best_model = grid.best_estimator_\n",
    "# y_val_pred = best_model.predict(tfidf_valid)\n",
    "# \n",
    "# print(\"验证集F1分数：\", f1_score(tfidf_valid, y_val_pred))"
   ],
   "metadata": {
    "collapsed": false,
    "ExecuteTime": {
     "end_time": "2025-09-19T05:08:59.292160700Z",
     "start_time": "2025-09-19T05:08:59.292160700Z"
    }
   },
   "id": "d588703d8bf3f180"
  },
  {
   "cell_type": "code",
   "execution_count": 117,
   "outputs": [],
   "source": [
    "test_pred_probas = model.predict_proba(tfidf_test)\n",
    "# probas[:, 1] 是预测为1的概率\n",
    "test_pred = (test_pred_probas[:, 1] >= 0.2).astype(int)\n",
    "\n",
    "# 4. 生成并导出结果\n",
    "out_df = pd.DataFrame({'id': test['id'], 'label': test_pred})\n",
    "out_df.to_csv('test_pred.csv', index=False)"
   ],
   "metadata": {
    "collapsed": false,
    "ExecuteTime": {
     "end_time": "2025-09-19T12:42:34.165762500Z",
     "start_time": "2025-09-19T12:42:34.046506500Z"
    }
   },
   "id": "5d3e59b7f0c912f5"
  }
 ],
 "metadata": {
  "kernelspec": {
   "display_name": "Python 3",
   "language": "python",
   "name": "python3"
  },
  "language_info": {
   "codemirror_mode": {
    "name": "ipython",
    "version": 2
   },
   "file_extension": ".py",
   "mimetype": "text/x-python",
   "name": "python",
   "nbconvert_exporter": "python",
   "pygments_lexer": "ipython2",
   "version": "2.7.6"
  }
 },
 "nbformat": 4,
 "nbformat_minor": 5
}
