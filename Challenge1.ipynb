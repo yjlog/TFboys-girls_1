{
 "cells": [
  {
   "cell_type": "markdown",
   "id": "2f2d21d8",
   "metadata": {},
   "source": [
    "# SI 670 Kaggle 1"
   ]
  },
  {
   "cell_type": "markdown",
   "id": "fcbe59d8",
   "metadata": {},
   "source": [
    "## 1. Read dataset"
   ]
  },
  {
   "cell_type": "code",
   "execution_count": 15,
   "id": "ba2636d2",
   "metadata": {},
   "outputs": [],
   "source": [
    "import pandas as pd\n",
    "train = pd.read_csv('data/si670_kaggle1_train.csv')\n",
    "valid = pd.read_csv('data/si670_kaggle1_validation.csv')\n",
    "test = pd.read_csv('data/test.csv')"
   ]
  },
  {
   "cell_type": "code",
   "execution_count": 16,
   "id": "56476eb2",
   "metadata": {},
   "outputs": [
    {
     "name": "stdout",
     "output_type": "stream",
     "text": [
      "Train shape: (319071, 3)\n",
      "Validation shape: (56792, 3)\n",
      "Test shape: (60743, 2)\n"
     ]
    }
   ],
   "source": [
    "print(\"Train shape:\", train.shape)\n",
    "print(\"Validation shape:\", valid.shape)\n",
    "print(\"Test shape:\", test.shape)"
   ]
  },
  {
   "cell_type": "markdown",
   "id": "a4a3c9f0",
   "metadata": {},
   "source": [
    "Now, we can have a look at the first few rows of the training data."
   ]
  },
  {
   "cell_type": "code",
   "execution_count": 17,
   "id": "63617324",
   "metadata": {},
   "outputs": [
    {
     "data": {
      "text/html": [
       "<div>\n",
       "<style scoped>\n",
       "    .dataframe tbody tr th:only-of-type {\n",
       "        vertical-align: middle;\n",
       "    }\n",
       "\n",
       "    .dataframe tbody tr th {\n",
       "        vertical-align: top;\n",
       "    }\n",
       "\n",
       "    .dataframe thead th {\n",
       "        text-align: right;\n",
       "    }\n",
       "</style>\n",
       "<table border=\"1\" class=\"dataframe\">\n",
       "  <thead>\n",
       "    <tr style=\"text-align: right;\">\n",
       "      <th></th>\n",
       "      <th>text</th>\n",
       "      <th>label</th>\n",
       "      <th>id</th>\n",
       "    </tr>\n",
       "  </thead>\n",
       "  <tbody>\n",
       "    <tr>\n",
       "      <th>0</th>\n",
       "      <td>White girls very rarely date Asian men. Even i...</td>\n",
       "      <td>1</td>\n",
       "      <td>0</td>\n",
       "    </tr>\n",
       "    <tr>\n",
       "      <th>1</th>\n",
       "      <td>I am a 23 year old male Indian American male. ...</td>\n",
       "      <td>1</td>\n",
       "      <td>1</td>\n",
       "    </tr>\n",
       "    <tr>\n",
       "      <th>2</th>\n",
       "      <td>Take three people, Persons A, B, and C. They l...</td>\n",
       "      <td>1</td>\n",
       "      <td>2</td>\n",
       "    </tr>\n",
       "    <tr>\n",
       "      <th>3</th>\n",
       "      <td>(A) Work part-time in high school; Then go to ...</td>\n",
       "      <td>1</td>\n",
       "      <td>3</td>\n",
       "    </tr>\n",
       "    <tr>\n",
       "      <th>4</th>\n",
       "      <td>When police introduce a new form of speed prev...</td>\n",
       "      <td>1</td>\n",
       "      <td>4</td>\n",
       "    </tr>\n",
       "  </tbody>\n",
       "</table>\n",
       "</div>"
      ],
      "text/plain": [
       "                                                text  label  id\n",
       "0  White girls very rarely date Asian men. Even i...      1   0\n",
       "1  I am a 23 year old male Indian American male. ...      1   1\n",
       "2  Take three people, Persons A, B, and C. They l...      1   2\n",
       "3  (A) Work part-time in high school; Then go to ...      1   3\n",
       "4  When police introduce a new form of speed prev...      1   4"
      ]
     },
     "execution_count": 17,
     "metadata": {},
     "output_type": "execute_result"
    }
   ],
   "source": [
    "train.head()"
   ]
  },
  {
   "cell_type": "markdown",
   "id": "9e143441",
   "metadata": {},
   "source": [
    "Next, we can check weather there exist any null values in the dataset."
   ]
  },
  {
   "cell_type": "code",
   "execution_count": 18,
   "id": "c0f5c87d",
   "metadata": {},
   "outputs": [
    {
     "data": {
      "text/plain": [
       "text     0\n",
       "label    0\n",
       "id       0\n",
       "dtype: int64"
      ]
     },
     "execution_count": 18,
     "metadata": {},
     "output_type": "execute_result"
    }
   ],
   "source": [
    "train.isnull().sum()"
   ]
  },
  {
   "cell_type": "markdown",
   "id": "7e5d4066",
   "metadata": {},
   "source": [
    "It seems like there are no nulls in the dataset."
   ]
  },
  {
   "cell_type": "code",
   "execution_count": 19,
   "id": "cae8a76dbcc54deb",
   "metadata": {
    "ExecuteTime": {
     "end_time": "2025-09-20T21:53:06.800657500Z",
     "start_time": "2025-09-20T21:53:06.771236200Z"
    },
    "collapsed": false
   },
   "outputs": [
    {
     "data": {
      "text/plain": [
       "np.float64(0.2924678206418007)"
      ]
     },
     "execution_count": 19,
     "metadata": {},
     "output_type": "execute_result"
    }
   ],
   "source": [
    "ratio_train = train['label'].mean()\n",
    "ratio_train"
   ]
  },
  {
   "cell_type": "code",
   "execution_count": 20,
   "id": "f56ddff11f16dc87",
   "metadata": {
    "ExecuteTime": {
     "end_time": "2025-09-20T21:53:08.651698500Z",
     "start_time": "2025-09-20T21:53:08.636336400Z"
    },
    "collapsed": false
   },
   "outputs": [
    {
     "data": {
      "text/plain": [
       "np.float64(0.5070960698689956)"
      ]
     },
     "execution_count": 20,
     "metadata": {},
     "output_type": "execute_result"
    }
   ],
   "source": [
    "ratio_valid = valid['label'].mean()\n",
    "ratio_valid"
   ]
  },
  {
   "cell_type": "markdown",
   "id": "b2e6068ef1b8d7c",
   "metadata": {
    "collapsed": false
   },
   "source": [
    "## 2. Data processing / text processing"
   ]
  },
  {
   "cell_type": "code",
   "execution_count": 21,
   "id": "e03f1edf183ffd8a",
   "metadata": {
    "ExecuteTime": {
     "end_time": "2025-09-20T23:34:06.363231Z",
     "start_time": "2025-09-20T23:31:28.543699600Z"
    },
    "collapsed": false
   },
   "outputs": [
    {
     "data": {
      "text/plain": [
       "(319071, 439151)"
      ]
     },
     "execution_count": 21,
     "metadata": {},
     "output_type": "execute_result"
    }
   ],
   "source": [
    "from sklearn.feature_extraction.text import TfidfVectorizer\n",
    "\n",
    "vectorizer = TfidfVectorizer(ngram_range=(1,2), min_df= 0.00005)\n",
    "tfidf_train = vectorizer.fit_transform(train['text'])\n",
    "y_train = train['label']\n",
    "tfidf_valid = vectorizer.transform(valid['text'])\n",
    "y_valid = valid['label']\n",
    "tfidf_test = vectorizer.transform(test['text'])\n",
    "\n",
    "tfidf_train.shape"
   ]
  },
  {
   "cell_type": "markdown",
   "id": "64698fa58b6d01e3",
   "metadata": {
    "collapsed": false
   },
   "source": [
    "try separate 1-gram and 2-gram, not using 3-gram"
   ]
  },
  {
   "cell_type": "code",
   "execution_count": 22,
   "id": "df6bd69f0d6635d0",
   "metadata": {
    "ExecuteTime": {
     "end_time": "2025-09-20T22:16:11.292242500Z",
     "start_time": "2025-09-20T22:15:26.311725500Z"
    },
    "collapsed": false
   },
   "outputs": [],
   "source": [
    "vectorizer_uni = TfidfVectorizer(\n",
    "    ngram_range=(1,1),\n",
    "    min_df=0.00005,\n",
    "    max_df=0.8,\n",
    "    stop_words='english'\n",
    ")\n",
    "\n",
    "tfidf_train_uni = vectorizer_uni.fit_transform(train['text'])\n",
    "tfidf_valid_uni = vectorizer_uni.transform(valid['text'])\n",
    "tfidf_test_uni = vectorizer_uni.transform(test['text'])\n",
    "\n",
    "vectorizer_bi = TfidfVectorizer(\n",
    "    ngram_range=(2,2),\n",
    "    min_df=0.00005,\n",
    "    max_df=0.8,\n",
    "    stop_words='english'\n",
    ")\n",
    "\n",
    "tfidf_train_bi = vectorizer_bi.fit_transform(train['text'])\n",
    "tfidf_valid_bi = vectorizer_bi.transform(valid['text'])\n",
    "tfidf_test_bi = vectorizer_bi.transform(test['text'])\n",
    "\n",
    "# vectorizer_tri = TfidfVectorizer(\n",
    "#     ngram_range=(3,3),\n",
    "#     min_df=0.00005,\n",
    "#     max_df=0.8,\n",
    "#     stop_words='english'\n",
    "# )\n",
    "# \n",
    "# tfidf_train_tri = vectorizer_bi.fit_transform(train['text'])\n",
    "# tfidf_valid_tri = vectorizer_bi.transform(valid['text'])\n",
    "# tfidf_test_tri = vectorizer_bi.transform(test['text'])"
   ]
  },
  {
   "cell_type": "markdown",
   "id": "a56eb6b6",
   "metadata": {},
   "source": [
    "combine 1-gram and 2-gram to a single feature set"
   ]
  },
  {
   "cell_type": "code",
   "execution_count": 23,
   "id": "9502662fcceab67c",
   "metadata": {
    "ExecuteTime": {
     "end_time": "2025-09-20T22:16:11.872975800Z",
     "start_time": "2025-09-20T22:16:11.296306600Z"
    },
    "collapsed": false
   },
   "outputs": [
    {
     "data": {
      "text/plain": [
       "(319071, 285296)"
      ]
     },
     "execution_count": 23,
     "metadata": {},
     "output_type": "execute_result"
    }
   ],
   "source": [
    "from scipy.sparse import hstack\n",
    "tfidf_train_all = hstack([tfidf_train_uni, tfidf_train_bi])\n",
    "tfidf_valid_all = hstack([tfidf_valid_uni, tfidf_valid_bi])\n",
    "tfidf_test_all = hstack([tfidf_test_uni, tfidf_test_bi])\n",
    "tfidf_train_all.shape"
   ]
  },
  {
   "cell_type": "markdown",
   "id": "9058805686c10e4b",
   "metadata": {
    "collapsed": false
   },
   "source": [
    "train on all"
   ]
  },
  {
   "cell_type": "code",
   "execution_count": 24,
   "id": "61c56d5178f6fcb9",
   "metadata": {
    "ExecuteTime": {
     "end_time": "2025-09-20T23:40:06.239499100Z",
     "start_time": "2025-09-20T23:37:21.408469800Z"
    },
    "collapsed": false
   },
   "outputs": [
    {
     "data": {
      "text/plain": [
       "(375863, 444252)"
      ]
     },
     "execution_count": 24,
     "metadata": {},
     "output_type": "execute_result"
    }
   ],
   "source": [
    "df_all = pd.concat([train, valid], axis=0, ignore_index=True)\n",
    "X_all_text = df_all['text']\n",
    "y_all = df_all['label']\n",
    "vectorizer_all = TfidfVectorizer(ngram_range=(1,2), min_df= 0.00005)\n",
    "tfidf_all = vectorizer_all.fit_transform(X_all_text)\n",
    "tfidf_valid = vectorizer_all.transform(valid['text'])\n",
    "y_valid = valid['label']\n",
    "tfidf_test = vectorizer_all.transform(test['text'])\n",
    "tfidf_all.shape"
   ]
  },
  {
   "cell_type": "markdown",
   "id": "6e0b81d4ed223af8",
   "metadata": {
    "collapsed": false
   },
   "source": [
    "How to deal with high dimensionality?"
   ]
  },
  {
   "cell_type": "code",
   "execution_count": 25,
   "id": "fe1e9a15",
   "metadata": {},
   "outputs": [],
   "source": [
    "# from sklearn.decomposition import TruncatedSVD\n",
    "\n",
    "# vectorizer = TfidfVectorizer(ngram_range=(1, 2), min_df=5, max_df=0.8, stop_words='english')\n",
    "# tfidf_train = vectorizer.fit_transform(train['text'])\n",
    "# tfidf_valid = vectorizer.transform(valid['text'])\n",
    "\n",
    "# svd = TruncatedSVD(n_components=1000, random_state=670)\n",
    "# tfidf_train_svd = svd.fit_transform(tfidf_train)\n",
    "# tfidf_valid_svd = svd.transform(tfidf_valid)\n",
    "\n",
    "# print(\"Original TF-IDF shape:\", tfidf_train.shape)\n",
    "# print(\"Reduced TF-IDF shape:\", tfidf_train_svd.shape)\n"
   ]
  },
  {
   "cell_type": "markdown",
   "id": "876e3b6a97cf18f8",
   "metadata": {
    "collapsed": false
   },
   "source": [
    "## 3. Train on Logistic Regression"
   ]
  },
  {
   "cell_type": "code",
   "execution_count": 26,
   "id": "1a5c53e9538f1d89",
   "metadata": {
    "ExecuteTime": {
     "end_time": "2025-09-20T23:42:00.878491300Z",
     "start_time": "2025-09-20T23:40:39.209026200Z"
    },
    "collapsed": false
   },
   "outputs": [
    {
     "name": "stdout",
     "output_type": "stream",
     "text": [
      "F1 Score: 0.9943469412603712\n"
     ]
    }
   ],
   "source": [
    "from sklearn.linear_model import LogisticRegression\n",
    "from sklearn.metrics import f1_score\n",
    "\n",
    "model = LogisticRegression(penalty='l2',class_weight='balanced', max_iter=100, C=20, random_state=670, solver='liblinear')\n",
    "model.fit(tfidf_all, y_all)\n",
    "y_valid_pred_probas = model.predict_proba(tfidf_valid)\n",
    "y_pred = (y_valid_pred_probas[:, 1] >= 0.5).astype(int)\n",
    "print('F1 Score:', f1_score(y_valid, y_pred))"
   ]
  },
  {
   "cell_type": "code",
   "execution_count": 27,
   "id": "49e4fa2c7ed91a12",
   "metadata": {
    "ExecuteTime": {
     "end_time": "2025-09-20T23:42:22.108242300Z",
     "start_time": "2025-09-20T23:42:22.072835200Z"
    },
    "collapsed": false
   },
   "outputs": [
    {
     "name": "stdout",
     "output_type": "stream",
     "text": [
      "F1 Score: 0.9888128522917277\n"
     ]
    }
   ],
   "source": [
    "y_pred = (y_valid_pred_probas[:, 1] >= 0.34).astype(int)\n",
    "print('F1 Score:', f1_score(y_valid, y_pred))"
   ]
  },
  {
   "cell_type": "code",
   "execution_count": 28,
   "id": "5d3e59b7f0c912f5",
   "metadata": {
    "ExecuteTime": {
     "end_time": "2025-09-20T23:42:28.829249Z",
     "start_time": "2025-09-20T23:42:28.631561900Z"
    },
    "collapsed": false
   },
   "outputs": [],
   "source": [
    "test_pred_probas = model.predict_proba(tfidf_test)\n",
    "test_pred = (test_pred_probas[:, 1] >= 0.34).astype(int)\n",
    "out_df = pd.DataFrame({'id': test['id'], 'label': test_pred})\n",
    "out_df.to_csv('test_pred.csv', index=False)"
   ]
  }
 ],
 "metadata": {
  "kernelspec": {
   "display_name": "SI670",
   "language": "python",
   "name": "python3"
  },
  "language_info": {
   "codemirror_mode": {
    "name": "ipython",
    "version": 3
   },
   "file_extension": ".py",
   "mimetype": "text/x-python",
   "name": "python",
   "nbconvert_exporter": "python",
   "pygments_lexer": "ipython3",
   "version": "3.12.11"
  }
 },
 "nbformat": 4,
 "nbformat_minor": 5
}
