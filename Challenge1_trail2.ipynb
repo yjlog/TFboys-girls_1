{
 "cells": [
  {
   "cell_type": "code",
   "execution_count": 1,
   "id": "initial_id",
   "metadata": {
    "collapsed": true,
    "ExecuteTime": {
     "end_time": "2025-09-20T22:31:15.832831500Z",
     "start_time": "2025-09-20T22:31:09.955588200Z"
    }
   },
   "outputs": [],
   "source": [
    "import pandas as pd\n",
    "import numpy as np\n",
    "train = pd.read_csv('data/si670_kaggle1_train.csv')\n",
    "valid = pd.read_csv('data/si670_kaggle1_validation.csv')\n",
    "test = pd.read_csv('data/test.csv')"
   ]
  },
  {
   "cell_type": "code",
   "execution_count": 2,
   "outputs": [],
   "source": [
    "# 字符数\n",
    "train['char_length'] = train['text'].apply(len)\n",
    "# 词数（英文可直接split，中文需先分词）\n",
    "train['word_count'] = train['text'].str.split().apply(len)   # 英文适用\n",
    "valid['char_length'] = valid['text'].apply(len)\n",
    "valid['word_count'] = valid['text'].str.split().apply(len)\n",
    "test['char_length'] = test['text'].apply(len)\n",
    "test['word_count'] = test['text'].str.split().apply(len)"
   ],
   "metadata": {
    "collapsed": false,
    "ExecuteTime": {
     "end_time": "2025-09-20T22:31:43.540996300Z",
     "start_time": "2025-09-20T22:31:15.893782800Z"
    }
   },
   "id": "f95a76f7185610ff"
  },
  {
   "cell_type": "code",
   "execution_count": 3,
   "outputs": [],
   "source": [
    "train['avg_word_len'] = train['text'].apply(lambda x: np.mean([len(w) for w in x.split()]) if len(x.split()) > 0 else 0)\n",
    "valid['avg_word_len'] = valid['text'].apply(lambda x: np.mean([len(w) for w in x.split()]) if len(x.split()) > 0 else 0)\n",
    "test['avg_word_len'] = test['text'].apply(lambda x: np.mean([len(w) for w in x.split()]) if len(x.split()) > 0 else 0)"
   ],
   "metadata": {
    "collapsed": false,
    "ExecuteTime": {
     "end_time": "2025-09-20T22:32:04.845362500Z",
     "start_time": "2025-09-20T22:31:46.085833500Z"
    }
   },
   "id": "392e0bf266281cb1"
  },
  {
   "cell_type": "code",
   "execution_count": 5,
   "outputs": [],
   "source": [
    "import re\n",
    "\n",
    "def avg_sent_len(text):\n",
    "    # 按句子断开\n",
    "    sentences = re.split(r'[.!?]', text)\n",
    "    sentences = [s.strip() for s in sentences if s.strip()]  # 去掉空句\n",
    "    if not sentences:\n",
    "        return 0\n",
    "    return np.mean([len(s.split()) for s in sentences])\n",
    "\n",
    "train['avg_sent_len'] = train['text'].apply(avg_sent_len)\n",
    "valid['avg_sent_len'] = valid['text'].apply(avg_sent_len)\n",
    "test['avg_sent_len'] = test['text'].apply(avg_sent_len)"
   ],
   "metadata": {
    "collapsed": false,
    "ExecuteTime": {
     "end_time": "2025-09-20T22:32:55.203940100Z",
     "start_time": "2025-09-20T22:32:40.450403800Z"
    }
   },
   "id": "3e4c58d9bc4d057"
  },
  {
   "cell_type": "code",
   "execution_count": 6,
   "outputs": [],
   "source": [
    "def punctuation_freq(text, punc):\n",
    "    return text.count(punc) / len(text) if len(text)>0 else 0\n",
    "\n",
    "train['comma_ratio'] = train['text'].apply(lambda x: punctuation_freq(x, ','))\n",
    "train['period_ratio'] = train['text'].apply(lambda x: punctuation_freq(x, '.'))\n",
    "train['question_ratio'] = train['text'].apply(lambda x: punctuation_freq(x, '?'))\n",
    "train['exclamation_ratio'] = train['text'].apply(lambda x: punctuation_freq(x, '!'))\n",
    "valid['comma_ratio'] = valid['text'].apply(lambda x: punctuation_freq(x, ','))\n",
    "valid['period_ratio'] = valid['text'].apply(lambda x: punctuation_freq(x, '.'))\n",
    "valid['question_ratio'] = valid['text'].apply(lambda x: punctuation_freq(x, '?'))\n",
    "valid['exclamation_ratio'] = valid['text'].apply(lambda x: punctuation_freq(x, '!'))\n",
    "test['comma_ratio'] = test['text'].apply(lambda x: punctuation_freq(x, ','))\n",
    "test['period_ratio'] = test['text'].apply(lambda x: punctuation_freq(x, '.'))\n",
    "test['question_ratio'] = test['text'].apply(lambda x: punctuation_freq(x, '?'))\n",
    "test['exclamation_ratio'] = test['text'].apply(lambda x: punctuation_freq(x, '!'))"
   ],
   "metadata": {
    "collapsed": false,
    "ExecuteTime": {
     "end_time": "2025-09-20T22:33:24.877662Z",
     "start_time": "2025-09-20T22:33:22.455480400Z"
    }
   },
   "id": "9cf7a34f6a3e8012"
  },
  {
   "cell_type": "code",
   "execution_count": 8,
   "outputs": [],
   "source": [
    "def bigram_unique_ratio(text):\n",
    "    words = text.split()\n",
    "    bigrams = [tuple(words[i:i+2]) for i in range(len(words)-1)]\n",
    "    if not bigrams:\n",
    "        return 0\n",
    "    return len(set(bigrams)) / len(bigrams)\n",
    "\n",
    "def trigram_unique_ratio(text):\n",
    "    words = text.split()\n",
    "    bigrams = [tuple(words[i:i+3]) for i in range(len(words)-1)]\n",
    "    if not bigrams:\n",
    "        return 0\n",
    "    return len(set(bigrams)) / len(bigrams)\n",
    "\n",
    "train['bigram_unique_ratio'] = train['text'].apply(bigram_unique_ratio)\n",
    "train['trigram_unique_ratio'] = train['text'].apply(trigram_unique_ratio)\n",
    "valid['bigram_unique_ratio'] = valid['text'].apply(bigram_unique_ratio)\n",
    "valid['trigram_unique_ratio'] = valid['text'].apply(trigram_unique_ratio)\n",
    "test['bigram_unique_ratio'] = test['text'].apply(bigram_unique_ratio)\n",
    "test['trigram_unique_ratio'] = test['text'].apply(trigram_unique_ratio)\n"
   ],
   "metadata": {
    "collapsed": false,
    "ExecuteTime": {
     "end_time": "2025-09-20T22:40:41.210345900Z",
     "start_time": "2025-09-20T22:39:52.068433600Z"
    }
   },
   "id": "ee1354798e87b20d"
  },
  {
   "cell_type": "code",
   "execution_count": 9,
   "outputs": [],
   "source": [
    "from collections import Counter\n",
    "\n",
    "def shannon_entropy(text):\n",
    "    words = text.split()\n",
    "    if not words:\n",
    "        return 0\n",
    "    counts = np.array(list(Counter(words).values()))\n",
    "    probs = counts / counts.sum()\n",
    "    return -np.sum(probs * np.log2(probs))\n",
    "\n",
    "train['shannon_entropy'] = train['text'].apply(shannon_entropy)\n",
    "valid['shannon_entropy'] = valid['text'].apply(shannon_entropy)\n",
    "test['shannon_entropy'] = test['text'].apply(shannon_entropy)"
   ],
   "metadata": {
    "collapsed": false,
    "ExecuteTime": {
     "end_time": "2025-09-20T22:41:55.382882700Z",
     "start_time": "2025-09-20T22:41:34.608070200Z"
    }
   },
   "id": "a69bd822b0ef76c8"
  },
  {
   "cell_type": "code",
   "execution_count": 12,
   "outputs": [
    {
     "data": {
      "text/plain": "                                                text  label  id  char_length  \\\n0  White girls very rarely date Asian men. Even i...      1   0         1238   \n1  I am a 23 year old male Indian American male. ...      1   1         1364   \n2  Take three people, Persons A, B, and C. They l...      1   2         1628   \n3  (A) Work part-time in high school; Then go to ...      1   3         2269   \n4  When police introduce a new form of speed prev...      1   4         1240   \n\n   word_count  avg_word_len  avg_sent_len  comma_ratio  period_ratio  \\\n0         222      4.581081     12.166667     0.008078      0.011309   \n1         265      4.150943     11.909091     0.005132      0.013196   \n2         303      4.376238     10.033333     0.007985      0.014742   \n3         405      4.604938     13.433333     0.008814      0.011459   \n4         212      4.853774     21.200000     0.008065      0.008065   \n\n   question_ratio  exclamation_ratio  bigram_unique_ratio  \\\n0        0.000808           0.002423             0.963801   \n1        0.000733           0.002199             0.939394   \n2        0.001229           0.002457             0.943709   \n3        0.000441           0.001322             0.945545   \n4        0.000000           0.000000             0.952607   \n\n   trigram_unique_ratio  shannon_entropy  \n0              0.995475         7.041116  \n1              0.988636         7.010302  \n2              0.986755         7.150306  \n3              0.995050         7.455256  \n4              1.000000         6.658566  ",
      "text/html": "<div>\n<style scoped>\n    .dataframe tbody tr th:only-of-type {\n        vertical-align: middle;\n    }\n\n    .dataframe tbody tr th {\n        vertical-align: top;\n    }\n\n    .dataframe thead th {\n        text-align: right;\n    }\n</style>\n<table border=\"1\" class=\"dataframe\">\n  <thead>\n    <tr style=\"text-align: right;\">\n      <th></th>\n      <th>text</th>\n      <th>label</th>\n      <th>id</th>\n      <th>char_length</th>\n      <th>word_count</th>\n      <th>avg_word_len</th>\n      <th>avg_sent_len</th>\n      <th>comma_ratio</th>\n      <th>period_ratio</th>\n      <th>question_ratio</th>\n      <th>exclamation_ratio</th>\n      <th>bigram_unique_ratio</th>\n      <th>trigram_unique_ratio</th>\n      <th>shannon_entropy</th>\n    </tr>\n  </thead>\n  <tbody>\n    <tr>\n      <th>0</th>\n      <td>White girls very rarely date Asian men. Even i...</td>\n      <td>1</td>\n      <td>0</td>\n      <td>1238</td>\n      <td>222</td>\n      <td>4.581081</td>\n      <td>12.166667</td>\n      <td>0.008078</td>\n      <td>0.011309</td>\n      <td>0.000808</td>\n      <td>0.002423</td>\n      <td>0.963801</td>\n      <td>0.995475</td>\n      <td>7.041116</td>\n    </tr>\n    <tr>\n      <th>1</th>\n      <td>I am a 23 year old male Indian American male. ...</td>\n      <td>1</td>\n      <td>1</td>\n      <td>1364</td>\n      <td>265</td>\n      <td>4.150943</td>\n      <td>11.909091</td>\n      <td>0.005132</td>\n      <td>0.013196</td>\n      <td>0.000733</td>\n      <td>0.002199</td>\n      <td>0.939394</td>\n      <td>0.988636</td>\n      <td>7.010302</td>\n    </tr>\n    <tr>\n      <th>2</th>\n      <td>Take three people, Persons A, B, and C. They l...</td>\n      <td>1</td>\n      <td>2</td>\n      <td>1628</td>\n      <td>303</td>\n      <td>4.376238</td>\n      <td>10.033333</td>\n      <td>0.007985</td>\n      <td>0.014742</td>\n      <td>0.001229</td>\n      <td>0.002457</td>\n      <td>0.943709</td>\n      <td>0.986755</td>\n      <td>7.150306</td>\n    </tr>\n    <tr>\n      <th>3</th>\n      <td>(A) Work part-time in high school; Then go to ...</td>\n      <td>1</td>\n      <td>3</td>\n      <td>2269</td>\n      <td>405</td>\n      <td>4.604938</td>\n      <td>13.433333</td>\n      <td>0.008814</td>\n      <td>0.011459</td>\n      <td>0.000441</td>\n      <td>0.001322</td>\n      <td>0.945545</td>\n      <td>0.995050</td>\n      <td>7.455256</td>\n    </tr>\n    <tr>\n      <th>4</th>\n      <td>When police introduce a new form of speed prev...</td>\n      <td>1</td>\n      <td>4</td>\n      <td>1240</td>\n      <td>212</td>\n      <td>4.853774</td>\n      <td>21.200000</td>\n      <td>0.008065</td>\n      <td>0.008065</td>\n      <td>0.000000</td>\n      <td>0.000000</td>\n      <td>0.952607</td>\n      <td>1.000000</td>\n      <td>6.658566</td>\n    </tr>\n  </tbody>\n</table>\n</div>"
     },
     "execution_count": 12,
     "metadata": {},
     "output_type": "execute_result"
    }
   ],
   "source": [
    "train.head()"
   ],
   "metadata": {
    "collapsed": false,
    "ExecuteTime": {
     "end_time": "2025-09-20T22:42:58.699146700Z",
     "start_time": "2025-09-20T22:42:58.662168100Z"
    }
   },
   "id": "b240b3b14b8d847e"
  },
  {
   "cell_type": "code",
   "execution_count": 13,
   "outputs": [],
   "source": [
    "features_for_model = ['char_length', 'word_count', 'avg_word_len', 'avg_sent_len',\n",
    "                      'comma_ratio', 'period_ratio', 'question_ratio', 'exclamation_ratio',\n",
    "                      'bigram_unique_ratio', 'trigram_unique_ratio', 'shannon_entropy']\n",
    "X_train = train[features_for_model]\n",
    "y_train = train['label']\n",
    "X_valid = valid[features_for_model]\n",
    "y_valid = valid['label']\n",
    "X_test = test[features_for_model]"
   ],
   "metadata": {
    "collapsed": false,
    "ExecuteTime": {
     "end_time": "2025-09-20T22:47:33.589138900Z",
     "start_time": "2025-09-20T22:47:33.521255600Z"
    }
   },
   "id": "c704a09a03f1a8fb"
  },
  {
   "cell_type": "code",
   "execution_count": 20,
   "outputs": [],
   "source": [
    "#standardize\n",
    "from sklearn.preprocessing import MinMaxScaler\n",
    "scaler = MinMaxScaler()\n",
    "X_train = scaler.fit_transform(X_train)\n",
    "X_valid = scaler.transform(X_valid)\n",
    "X_test = scaler.transform(X_test)"
   ],
   "metadata": {
    "collapsed": false,
    "ExecuteTime": {
     "end_time": "2025-09-20T22:48:30.720495300Z",
     "start_time": "2025-09-20T22:48:30.674943Z"
    }
   },
   "id": "a290d5feda102649"
  },
  {
   "cell_type": "code",
   "execution_count": 30,
   "outputs": [
    {
     "name": "stdout",
     "output_type": "stream",
     "text": [
      "F1分数: 0.7007560262412315\n"
     ]
    }
   ],
   "source": [
    "#Logistic Regression\n",
    "from sklearn.linear_model import LogisticRegression\n",
    "from sklearn.metrics import f1_score\n",
    "model = LogisticRegression(penalty='l2',class_weight='balanced', max_iter=100, C=0.1, random_state=670, solver='liblinear')\n",
    "model.fit(X_train, y_train)\n",
    "y_valid_pred = model.predict_proba(X_valid)\n",
    "y_pred = (y_valid_pred[:, 1] >= 0.5).astype(int)\n",
    "print('F1分数:', f1_score(y_valid, y_pred))"
   ],
   "metadata": {
    "collapsed": false,
    "ExecuteTime": {
     "end_time": "2025-09-20T22:49:40.122596600Z",
     "start_time": "2025-09-20T22:49:39.081679700Z"
    }
   },
   "id": "bba0d67bf66b0d1e"
  },
  {
   "cell_type": "code",
   "execution_count": 34,
   "outputs": [
    {
     "name": "stdout",
     "output_type": "stream",
     "text": [
      "F1分数: 0.705292723149866\n"
     ]
    }
   ],
   "source": [
    "y_pred = (y_valid_pred[:, 1] >= 0.45).astype(int)\n",
    "print('F1分数:', f1_score(y_valid, y_pred))"
   ],
   "metadata": {
    "collapsed": false,
    "ExecuteTime": {
     "end_time": "2025-09-20T22:49:53.853807100Z",
     "start_time": "2025-09-20T22:49:53.808841900Z"
    }
   },
   "id": "9b0807f6db445b43"
  }
 ],
 "metadata": {
  "kernelspec": {
   "display_name": "Python 3",
   "language": "python",
   "name": "python3"
  },
  "language_info": {
   "codemirror_mode": {
    "name": "ipython",
    "version": 2
   },
   "file_extension": ".py",
   "mimetype": "text/x-python",
   "name": "python",
   "nbconvert_exporter": "python",
   "pygments_lexer": "ipython2",
   "version": "2.7.6"
  }
 },
 "nbformat": 4,
 "nbformat_minor": 5
}
